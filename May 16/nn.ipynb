{
 "cells": [
  {
   "cell_type": "markdown",
   "id": "a227b2ea",
   "metadata": {},
   "source": [
    "> How many neurons in input?\n",
    "Equal to number of features\n",
    "\n",
    "> How many neurons in output?\n",
    "Depends upon \"y\"\n",
    "\n",
    "- Binary classification:\n",
    "    - 1\n",
    "- You are trying to predict height, width, center_x, center_y\n",
    "    - 4\n",
    "\n",
    "> How many layers in between and how many neurons in each?\n",
    "    - How much data do we have?\n",
    "    - How complex is the problems\n",
    "\n",
    "> How do we define complexity?\n",
    "    - #features\n",
    "    - Easiest relationship is Linear Relationship.\n",
    "\n",
    "Activation Functions:\n",
    "    - We need activation functions such as Sigmoid in all hidden layers\n",
    "\n",
    "On the output layer activation functions as well as the loss function are a function of problem statement:\n",
    "- Binary Classification\n",
    "    - Activation: Sigmoid\n",
    "    - Loss: cross entropy\n",
    "- Regression:\n",
    "    - No Activation\n",
    "    - Loss: MSE\n",
    "- Multclass classification: (Person, Dog, Cycle - 3 classes)\n",
    "    - 3\n",
    "    - sum of all three values should be 1\n",
    "    - One of them should be highest ~ 1\n",
    "    - [1, 2, 3] -> [e*1, e**2, e**3]/sum() - Activation:softmax\n",
    "    - Loss: cross entropy\n",
    "\n",
    "# Problem Statement is\n",
    "\n",
    "Photo (20x20) --> NN --> (Center, size, Person|Dog|Cycle)\n",
    "\n",
    "Input Size: 400\n",
    "Output: \n",
    "    7 - centerx, centery, size_w, size_h, personp, dogp, cyclep\n",
    "    Activation for personp, dogp, cyclep:\n",
    "        - Softmax\n",
    "    Activation for centerx, centery, size_w, size_h:\n",
    "        - None\n",
    "    loss function:\n",
    "        - MSE(center, size) + cross_entropy(personp, dogp, cyclep)\n",
    "        - MSE(center, size) + MSE(personp, dogp, cyclep)\n",
    "    \n"
   ]
  }
 ],
 "metadata": {
  "language_info": {
   "name": "python"
  }
 },
 "nbformat": 4,
 "nbformat_minor": 5
}
