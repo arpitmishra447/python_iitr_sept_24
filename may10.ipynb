{
 "cells": [
  {
   "cell_type": "code",
   "execution_count": null,
   "id": "ae7630f0",
   "metadata": {},
   "outputs": [],
   "source": [
    "import numpy as np\n",
    "def loss(y_label, m, c, X):\n",
    "    y_pred = m*X + c\n",
    "    return np.sum(np.max(0, 1 - y_label*y_pred))\n",
    "\n",
    "You can use Gradient Descent to find m and c for which loss is minimum.\n"
   ]
  },
  {
   "cell_type": "code",
   "execution_count": null,
   "id": "f77e668d",
   "metadata": {},
   "outputs": [],
   "source": [
    "def relu(x):\n",
    "    return max(0, x)\n",
    "\n",
    "y_label = np.array([1, -1])\n",
    "y_actual = np.array([5, 4])\n",
    "\n",
    "relu(1 - 4*-1) + relu(1 - 5*1)\n",
    "relu(1+4) + relu(-4)\n",
    "\n",
    "5 + 0 = 5"
   ]
  },
  {
   "cell_type": "code",
   "execution_count": null,
   "id": "170b42cd",
   "metadata": {},
   "outputs": [],
   "source": [
    "# 0 and 1 - 1 100%, 0 not pure.\n",
    "def purity(arr):\n",
    "    # return purity\n",
    "    return 0\n",
    "\n",
    "purity([0,0, 1, 1]) - 0\n",
    "purity([1, 1, 1, 1]) > purity([0, 0, 0, 1]) > purity([0, 0, 1, 1])\n"
   ]
  },
  {
   "cell_type": "code",
   "execution_count": null,
   "id": "01880d96",
   "metadata": {},
   "outputs": [],
   "source": [
    "# 0 - pure, 1 - impure\n",
    "def impurity(arr):\n",
    "    # return purity\n",
    "    return 0\n",
    "\n",
    "impurity([0,0, 1, 1]) -> 1\n",
    "impurity([1, 1, 1, 1]) < impurity([0, 0, 0, 1]) < impurity([0, 0, 1, 1])\n",
    "\n",
    "\n",
    "count_0 = 0.5, count_1 = 0.5, impurity = 1\n",
    "count_0 = 0.75, count_1 = 0.25, impurity = 0.5\n",
    "\n",
    "# (0: .5, 1: .5) > (0:.75, 1:.25) > (0: 1, 1:0)\n",
    "def impurity(p0, p1):\n",
    "    return 1 - abs(p0 - p1)\n",
    "\n",
    "def impurity(p0, p1):\n",
    "    return p0*p1/.25\n"
   ]
  },
  {
   "cell_type": "code",
   "execution_count": null,
   "id": "a827159a",
   "metadata": {},
   "outputs": [],
   "source": [
    "X = [13, 4, 8, 9, 15, 26] -> [4, 8, 9, 13, 15, 26]\n",
    "y = [1, 0, 0, 0, 1, 1]    -> [0, 0, 0,  1,  1,   1]\n",
    "\n",
    "# Age = 4\n",
    "X1 = [4], X1 = [8, 9, 13, 15, 26]\n",
    "y1 = [0], y1 = [0, 0,  1,  1,   1]\n",
    "\n",
    "# Age = 8\n",
    "\n",
    "# Age = 9\n",
    "\n",
    "# Age = 13\n",
    "X1 = [4, 8, 9,], X1 = [13, 15, 26]\n",
    "y1 = [0, 0, 0], y1 = [1,  1,   1]\n",
    "\n",
    "#Build it on IRIS.\n",
    "model.fit(X, y)\n"
   ]
  }
 ],
 "metadata": {
  "kernelspec": {
   "display_name": "ml",
   "language": "python",
   "name": "python3"
  },
  "language_info": {
   "codemirror_mode": {
    "name": "ipython",
    "version": 3
   },
   "file_extension": ".py",
   "mimetype": "text/x-python",
   "name": "python",
   "nbconvert_exporter": "python",
   "pygments_lexer": "ipython3",
   "version": "3.13.1"
  }
 },
 "nbformat": 4,
 "nbformat_minor": 5
}
